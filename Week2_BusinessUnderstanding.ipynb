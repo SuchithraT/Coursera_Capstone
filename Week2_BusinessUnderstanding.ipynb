{
 "cells": [
  {
   "cell_type": "markdown",
   "metadata": {},
   "source": [
    "# <center> IBM Data Science - Capstone Coursera </center>"
   ]
  },
  {
   "cell_type": "markdown",
   "metadata": {},
   "source": [
    "##  <center>To Predict the Severity of an accident </center> "
   ]
  },
  {
   "cell_type": "markdown",
   "metadata": {},
   "source": [
    "### INTRODUCTION - Business Understanding"
   ]
  },
  {
   "cell_type": "markdown",
   "metadata": {},
   "source": [
    "#### Motivation / Business Problem\n",
    "  As a nation on wheels, driving around is part of the life. Imagine You are driving to another city for work or to visit friends. It is rainy and windy and on the way, you come across the terrible traffic jam on the other side of the highway. Long lines of cars are barely moving. As you keep driving police car start appearing from afar shutting down the highway. Its an accident and there's a helicopter transporting the ones involved in the crash to the nearest hospital. They must be in critical condition for all of this to happening. \n",
    "  \n",
    "  Now wouldn't be great if there is something in place that could warn you given the weather and road conditions about the possibility of you getting into a car accident and how severe it would be, so that you would drive more carefully or even you change your travel if you are able to. \n"
   ]
  },
  {
   "cell_type": "markdown",
   "metadata": {},
   "source": [
    "#### Objectives"
   ]
  },
  {
   "cell_type": "markdown",
   "metadata": {},
   "source": [
    "The objective of this project is to recognize <b> key factors affecting the accident severity and to develop a model that can accurately predict accident severity.</b> \n",
    "\n",
    "The model will predicts the severity of an accident where the most accidents happens like in which Country, City, Zipcode, Street, Side and Predict the accidents based on weather conditions with different attributes. Because, Weather-related vehicle accidents kill more people annually than large-scale weather disasters\n",
    "\n",
    "\n",
    "By analyzing accident records data set collected for the past few years, insights on how to drive safely and keep accident free are highlighted here. This should provide a reference guide you may use to drive safely and avoid car accident."
   ]
  },
  {
   "cell_type": "markdown",
   "metadata": {},
   "source": [
    "Data cleaning was first performed to detect and handle corrupt or missing records. EDA (Exploratory Data Analysis) and feature engineering were then done over most features. Finally, Supervised learning algorithm(Logistic regression, Decision Tree Classifier, and Random Forest Classifier) will be used to develop the predictive model."
   ]
  }
 ],
 "metadata": {
  "kernelspec": {
   "display_name": "Python 3",
   "language": "python",
   "name": "python3"
  },
  "language_info": {
   "codemirror_mode": {
    "name": "ipython",
    "version": 3
   },
   "file_extension": ".py",
   "mimetype": "text/x-python",
   "name": "python",
   "nbconvert_exporter": "python",
   "pygments_lexer": "ipython3",
   "version": "3.7.6"
  }
 },
 "nbformat": 4,
 "nbformat_minor": 4
}
